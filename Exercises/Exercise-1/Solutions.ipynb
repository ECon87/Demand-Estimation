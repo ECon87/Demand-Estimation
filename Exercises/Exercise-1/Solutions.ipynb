{
 "cells": [
  {
   "cell_type": "markdown",
   "id": "0b46e813-706e-4ce1-98ad-2d0d6c32b08c",
   "metadata": {},
   "source": [
    "## Exercise 1"
   ]
  },
  {
   "cell_type": "code",
   "execution_count": null,
   "id": "bf5c35cb-5d03-4cf2-9858-be4933b8f69c",
   "metadata": {},
   "outputs": [],
   "source": [
    "import pyblp\n",
    "import numpy as np\n",
    "import pandas as pd\n",
    "import statsmodels.formula.api as smf\n",
    "\n",
    "pyblp.options.digits = 3\n",
    "pyblp.options.verbose = False\n",
    "pd.options.display.precision = 3\n",
    "pd.options.display.max_columns = 50\n",
    "\n",
    "import IPython.display\n",
    "IPython.display.display(IPython.display.HTML('<style>pre { white-space: pre !important; }</style>'))"
   ]
  },
  {
   "cell_type": "markdown",
   "id": "2f8d897f-26ad-46da-9998-8e6f5e686975",
   "metadata": {
    "jp-MarkdownHeadingCollapsed": true
   },
   "source": [
    "### 1. Describe the data"
   ]
  },
  {
   "cell_type": "markdown",
   "id": "61f133e9-d389-46cd-986f-c87e6e817a1a",
   "metadata": {},
   "source": [
    "Let's load the data and look at a random sample. It's good practice to set your seed whenever you do something with a random number generator."
   ]
  },
  {
   "cell_type": "code",
   "execution_count": null,
   "id": "ad78f77f-88e9-4f3d-a947-d123944dae18",
   "metadata": {},
   "outputs": [],
   "source": [
    "product_data = pd.read_csv('../Data/products.csv')\n",
    "product_data.sample(n=5, random_state=0)"
   ]
  },
  {
   "cell_type": "markdown",
   "id": "ca2199f5-0b88-4a99-84a3-566adfe755ea",
   "metadata": {
    "jp-MarkdownHeadingCollapsed": true
   },
   "source": [
    "### 2. Compute market shares"
   ]
  },
  {
   "cell_type": "markdown",
   "id": "9690febd-ca2d-4239-a35a-95aedabe4239",
   "metadata": {},
   "source": [
    "Let's compute the market size and market shares."
   ]
  },
  {
   "cell_type": "code",
   "execution_count": null,
   "id": "32cb6700-b787-4847-8285-2981c254406b",
   "metadata": {},
   "outputs": [],
   "source": [
    "product_data['market_size'] = product_data['city_population'] * 90\n",
    "product_data['market_share'] = product_data['servings_sold'] / product_data['market_size']\n",
    "product_data['outside_share'] = 1 - product_data.groupby('market')['market_share'].transform('sum')\n",
    "product_data[['market_share', 'outside_share']].describe()"
   ]
  },
  {
   "cell_type": "markdown",
   "id": "2e1d43b3-87f2-4cb5-8321-c373300b549f",
   "metadata": {
    "jp-MarkdownHeadingCollapsed": true
   },
   "source": [
    "### 3. Estimate the pure logit model with OLS"
   ]
  },
  {
   "cell_type": "markdown",
   "id": "31353187-d9f4-45d5-9191-289b0ba23584",
   "metadata": {},
   "source": [
    "Let's use the R-style formula interface to statsmodels to estimate the pure logit model with an OLS regression. We'll use HC0 standard errors to align with PyBLP's default, which is to adjust for heteroskedasticity."
   ]
  },
  {
   "cell_type": "code",
   "execution_count": null,
   "id": "d1dbd1c7-439d-438b-8c72-97731b1b05b3",
   "metadata": {},
   "outputs": [],
   "source": [
    "product_data['logit_delta'] = np.log(product_data['market_share'] / product_data['outside_share'])\n",
    "statsmodels_ols = smf.ols('logit_delta ~ 1 + mushy + price_per_serving', product_data)\n",
    "statsmodels_results = statsmodels_ols.fit(cov_type='HC0')\n",
    "statsmodels_results.summary2().tables[1]"
   ]
  },
  {
   "cell_type": "markdown",
   "id": "7609202b-2c1d-4d6e-82bf-e9918e07395c",
   "metadata": {},
   "source": [
    "The coefficient on price is negative, which means demand is estimated to be sloping down. We'll compute elasticities later, which are more interpretable than the magnitude of the price coefficient here. To interpret the coefficient on mushy, we can divide it by the coefficient on price: 0.075 / 7.480 = $0.01 is the willingness to pay of consumers for a cereal begin \"mushy.\" There are likely a number of other characteristics that mushy is correlated with, which we're not including in this regression."
   ]
  },
  {
   "cell_type": "markdown",
   "id": "cd925d2d-d2be-4ee7-bc9f-12737a20fd07",
   "metadata": {
    "jp-MarkdownHeadingCollapsed": true
   },
   "source": [
    "### 4. Run the same regression with PyBLP"
   ]
  },
  {
   "cell_type": "markdown",
   "id": "1b03141d-ab45-48bc-9feb-a916f43e2f93",
   "metadata": {},
   "source": [
    "Let's prep our data for use by PyBLP. We need to rename some columns and then use a similar R-style formula to set up our problem."
   ]
  },
  {
   "cell_type": "code",
   "execution_count": null,
   "id": "ceaaa598-6569-4e7e-95ab-f02a72b5ed48",
   "metadata": {},
   "outputs": [],
   "source": [
    "product_data = product_data.rename(columns={\n",
    "    'market': 'market_ids',\n",
    "    'product': 'product_ids',\n",
    "    'market_share': 'shares',\n",
    "    'price_per_serving': 'prices',\n",
    "})\n",
    "product_data['demand_instruments0'] = product_data['prices']\n",
    "ols_problem = pyblp.Problem(pyblp.Formulation('1 + mushy + prices'), product_data)\n",
    "ols_problem"
   ]
  },
  {
   "cell_type": "markdown",
   "id": "47f38e07-8edd-401a-a1cc-1e2b2def85bc",
   "metadata": {},
   "source": [
    "Let's double-check that PyBLP's instruments matrix is as we expect: a constant, mushy, and prices. The ordering is different, but it's the same."
   ]
  },
  {
   "cell_type": "code",
   "execution_count": null,
   "id": "d56012d9-8369-460a-b57d-d8929badd16c",
   "metadata": {},
   "outputs": [],
   "source": [
    "pd.DataFrame(ols_problem.products.ZD).sample(n=5, random_state=0)"
   ]
  },
  {
   "cell_type": "markdown",
   "id": "51cee2be-d152-4833-9660-755c94cca299",
   "metadata": {},
   "source": [
    "Now let's run the same OLS regression."
   ]
  },
  {
   "cell_type": "code",
   "execution_count": null,
   "id": "bebcd884-e129-4a34-bb29-1fe24f6a418f",
   "metadata": {},
   "outputs": [],
   "source": [
    "ols_results = ols_problem.solve(method='1s')\n",
    "ols_results"
   ]
  },
  {
   "cell_type": "markdown",
   "id": "0679136f-121c-4c4c-a04d-cc0bd1657927",
   "metadata": {},
   "source": [
    "We can create a quick dataframe to nicely-format the estimates in this notebook."
   ]
  },
  {
   "cell_type": "code",
   "execution_count": null,
   "id": "a0ba8874-875b-4186-b8c1-c4c955d4eb4c",
   "metadata": {},
   "outputs": [],
   "source": [
    "pd.DataFrame(index=ols_results.beta_labels, data={\n",
    "    (\"Estimates\", \"Statsmodels\"): statsmodels_results.params.values,\n",
    "    (\"Estimates\", \"PyBLP\"): ols_results.beta.flat,\n",
    "    (\"SEs\", \"Statsmodels\"): statsmodels_results.bse.values,\n",
    "    (\"SEs\", \"PyBLP\"): ols_results.beta_se.flat,\n",
    "})"
   ]
  },
  {
   "cell_type": "markdown",
   "id": "5ffdbb2b-bc7a-4a27-832c-bd9468a37b51",
   "metadata": {},
   "source": [
    "We get the same estimates and the same standard errors."
   ]
  },
  {
   "cell_type": "markdown",
   "id": "b3ec896a-a2df-4d4c-89f8-291dd359ab86",
   "metadata": {
    "jp-MarkdownHeadingCollapsed": true
   },
   "source": [
    "### 5. Add market and product fixed effects"
   ]
  },
  {
   "cell_type": "markdown",
   "id": "5c4b438f-e917-42c2-84c5-b505c3d7b077",
   "metadata": {},
   "source": [
    "It's easiest to add fixed effects by absorbing them. This is done under the hood with iterative de-meaning. We'll drop the constant and the mushy dummy because these are collinear with the fixed effects."
   ]
  },
  {
   "cell_type": "code",
   "execution_count": null,
   "id": "98e6321e-88b9-4922-88a2-396e69c1f295",
   "metadata": {},
   "outputs": [],
   "source": [
    "fe_problem = pyblp.Problem(pyblp.Formulation('0 + prices', absorb='C(market_ids) + C(product_ids)'), product_data)\n",
    "fe_problem"
   ]
  },
  {
   "cell_type": "code",
   "execution_count": null,
   "id": "e3473a67-aaad-4fb1-b61c-26e248ef2965",
   "metadata": {},
   "outputs": [],
   "source": [
    "fe_results = fe_problem.solve(method='1s')\n",
    "fe_results"
   ]
  },
  {
   "cell_type": "markdown",
   "id": "3b2c8870-db91-4a5c-b0a3-b204b326af69",
   "metadata": {},
   "source": [
    "We get a more negative coefficient on price, suggesting that the OLS coefficient was biased upwards. This suggests that price was positively correlated with product/market-specific components of unobserved quality."
   ]
  },
  {
   "cell_type": "markdown",
   "id": "627a2531-1611-4b23-ac68-3dab0e472792",
   "metadata": {
    "jp-MarkdownHeadingCollapsed": true
   },
   "source": [
    "### 6. Add an instrument for price"
   ]
  },
  {
   "cell_type": "markdown",
   "id": "26029965-2980-48c4-84d0-dbb71d903906",
   "metadata": {},
   "source": [
    "First, let's run a first-stage regression of price on the price instrument in the data to make sure it's relevant."
   ]
  },
  {
   "cell_type": "code",
   "execution_count": null,
   "id": "46b7fb8e-d3d1-4af9-92be-4fd5e805f4b9",
   "metadata": {},
   "outputs": [],
   "source": [
    "first_stage = smf.ols('prices ~ 0 + price_instrument + C(market_ids) + C(product_ids)', product_data)\n",
    "first_stage_results = first_stage.fit(cov_type='HC0')\n",
    "first_stage_results.summary2().tables[1].sort_index(ascending=False)"
   ]
  },
  {
   "cell_type": "markdown",
   "id": "f41f9cbc-b224-452a-a61b-f595eae063a6",
   "metadata": {},
   "source": [
    "It seems relevant, being strongly positively correlated with price even after adjusting for market and product fixed effects. Now we'll use it to instrument for price."
   ]
  },
  {
   "cell_type": "code",
   "execution_count": null,
   "id": "a15c2291-c5e2-4b9d-8fcb-a8006a5f4644",
   "metadata": {},
   "outputs": [],
   "source": [
    "product_data = product_data.drop(columns='demand_instruments0').rename(columns={'price_instrument': 'demand_instruments0'})\n",
    "iv_problem = pyblp.Problem(pyblp.Formulation('0 + prices', absorb='C(market_ids) + C(product_ids)'), product_data)\n",
    "iv_problem"
   ]
  },
  {
   "cell_type": "code",
   "execution_count": null,
   "id": "ad3df99f-f351-457c-8978-31d7c012965a",
   "metadata": {},
   "outputs": [],
   "source": [
    "iv_results = iv_problem.solve(method='1s')\n",
    "iv_results"
   ]
  },
  {
   "cell_type": "code",
   "execution_count": null,
   "id": "3250f8a3-0f56-435e-9856-98bd60cbc3b9",
   "metadata": {},
   "outputs": [],
   "source": [
    "pd.DataFrame(index=fe_results.beta_labels, data={\n",
    "    (\"Estimates\", \"OLS\"): ols_results.beta[-1:].flat,\n",
    "    (\"Estimates\", \"+FE\"): fe_results.beta.flat,\n",
    "    (\"Estimates\", \"+IV\"): iv_results.beta.flat,\n",
    "    (\"SEs\", \"OLS\"): ols_results.beta_se[-1:].flat,\n",
    "    (\"SEs\", \"+FE\"): fe_results.beta_se.flat,\n",
    "    (\"SEs\", \"+IV\"): iv_results.beta_se.flat,\n",
    "})"
   ]
  },
  {
   "cell_type": "markdown",
   "id": "03e4bcb0-bc33-4f05-a391-ce2f67b0176f",
   "metadata": {},
   "source": [
    "Our estimate gets even more negative with an IV, suggesting that the within product *and* market component of unobserved quality was still positively correlated with price."
   ]
  },
  {
   "cell_type": "markdown",
   "id": "e13c02fc-4226-4fa6-9529-238620613def",
   "metadata": {
    "jp-MarkdownHeadingCollapsed": true
   },
   "source": [
    "### 7. Cut a price in half and see what happens"
   ]
  },
  {
   "cell_type": "markdown",
   "id": "5b553e72-0601-45eb-992e-f46e8a5a6ffc",
   "metadata": {},
   "source": [
    "Let's select the market in which we'll run the counterfactual and see what choices are available to consumers."
   ]
  },
  {
   "cell_type": "code",
   "execution_count": null,
   "id": "73417ab3-74f3-444c-8158-4f6e67e18081",
   "metadata": {},
   "outputs": [],
   "source": [
    "counterfactual_market = 'C01Q2'\n",
    "counterfactual_data = product_data.loc[product_data['market_ids'] == counterfactual_market, ['product_ids', 'mushy', 'prices', 'shares']]\n",
    "counterfactual_data"
   ]
  },
  {
   "cell_type": "markdown",
   "id": "f0303696-956d-499e-80ac-5d6672616e4f",
   "metadata": {},
   "source": [
    "Let's cut the price of the first product in half and use our estimated model to predict how market shares of all products in the market will change."
   ]
  },
  {
   "cell_type": "code",
   "execution_count": null,
   "id": "356717fe-0c9c-4e80-ba40-21d4f0eb5029",
   "metadata": {},
   "outputs": [],
   "source": [
    "counterfactual_data['new_prices'] = counterfactual_data['prices']\n",
    "counterfactual_data.loc[counterfactual_data['product_ids'] == 'F1B04', 'new_prices'] /= 2\n",
    "counterfactual_data['new_shares'] = iv_results.compute_shares(market_id=counterfactual_market, prices=counterfactual_data['new_prices'])\n",
    "counterfactual_data['iv_change'] = 100 * (counterfactual_data['new_shares'] - counterfactual_data['shares']) / counterfactual_data['shares']\n",
    "counterfactual_data"
   ]
  },
  {
   "cell_type": "markdown",
   "id": "1369fcc5-f6a4-43f1-99ab-63ec8036b6be",
   "metadata": {},
   "source": [
    "The market share of the product whose price we halved increased by more than 200%, suggesting that consumers are fairly responsive to price changes. The market shares of the other products all decreased, which makes sense (we need substitution from somehwere), but we see that they all decreased by the same percent, which seems unrealistic. We would expect more substitution from more similar products. Cannibalization estimates don't seem reasonable -- we'd expect more cannibalization from the other products of firm one that are more similar to the product whose price is being cut."
   ]
  },
  {
   "cell_type": "markdown",
   "id": "5559642e-3da0-4dc3-989b-1b1ef8fe0ff7",
   "metadata": {
    "jp-MarkdownHeadingCollapsed": true
   },
   "source": [
    "### 8. Compute demand elasticities"
   ]
  },
  {
   "cell_type": "markdown",
   "id": "0d3c4445-22dc-452a-9aa4-053fc2d07504",
   "metadata": {},
   "source": [
    "To get a sense for what's going on, we can compute demand elasticities."
   ]
  },
  {
   "cell_type": "code",
   "execution_count": null,
   "id": "79bd3ea2-f218-49d6-89e8-5ebef42804e5",
   "metadata": {},
   "outputs": [],
   "source": [
    "iv_elasticities = iv_results.compute_elasticities(market_id=counterfactual_market)\n",
    "pd.DataFrame(iv_elasticities)"
   ]
  },
  {
   "cell_type": "markdown",
   "id": "6530e335-4ccd-4010-a9e3-1113a03e75d8",
   "metadata": {},
   "source": [
    "The diagonal elements are useful statistics to report (perhaps as a quantity-weighted average or median) instead of the raw price coefficient, which is a bit hard to interpret on its own. They suggest that consumers are pretty elastic. The off-diagonal elements are cross-price elasticities, which are all fairly small. The non-realistic substitution patterns we saw in our counterfactual also show up here: all cross-price elasticities in each column are the same, even though we'd expect some differences for more similar products."
   ]
  }
 ],
 "metadata": {
  "kernelspec": {
   "display_name": "Python 3 (ipykernel)",
   "language": "python",
   "name": "python3"
  },
  "language_info": {
   "codemirror_mode": {
    "name": "ipython",
    "version": 3
   },
   "file_extension": ".py",
   "mimetype": "text/x-python",
   "name": "python",
   "nbconvert_exporter": "python",
   "pygments_lexer": "ipython3",
   "version": "3.9.18"
  }
 },
 "nbformat": 4,
 "nbformat_minor": 5
}
